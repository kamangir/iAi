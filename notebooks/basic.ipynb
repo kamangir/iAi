{
 "cells": [
  {
   "cell_type": "markdown",
   "metadata": {},
   "source": [
    "# iAi - basic"
   ]
  },
  {
   "cell_type": "code",
   "execution_count": null,
   "metadata": {},
   "outputs": [],
   "source": [
    "import os\n",
    "from IPython.display import Image\n",
    "from PIL import Image as PIL_Image\n",
    "import abcli\n",
    "from abcli import string\n",
    "from abcli.modules.cookie import cookie\n",
    "from abcli.plugins import tags\n",
    "from abcli import file\n",
    "import abcli.logging\n",
    "import logging\n",
    "\n",
    "logger = logging.getLogger()\n",
    "\n",
    "logger.info(f\"using {abcli.fullname()}\")\n",
    "logger.info(f\"{os.environ.get('abcli_object_name')} - built on {string.pretty_date()}\")"
   ]
  },
  {
   "cell_type": "code",
   "execution_count": null,
   "metadata": {},
   "outputs": [],
   "source": [
    "from instagrapi import Client"
   ]
  },
  {
   "cell_type": "code",
   "execution_count": null,
   "metadata": {},
   "outputs": [],
   "source": [
    "object_name = tags.search(\"published,DALL-E\", count=10)[0]\n",
    "object_path = os.path.join(os.getenv(\"abcli_object_root\"), object_name)"
   ]
  },
  {
   "cell_type": "code",
   "execution_count": null,
   "metadata": {},
   "outputs": [],
   "source": [
    "_, metadata = file.load_json(os.path.join(object_path,\"DALL-E.json\"))"
   ]
  },
  {
   "cell_type": "code",
   "execution_count": null,
   "metadata": {},
   "outputs": [],
   "source": [
    "client = Client()\n",
    "client.login(\"kamangir\", cookie[\"instagram.password\"])"
   ]
  },
  {
   "cell_type": "code",
   "execution_count": null,
   "metadata": {},
   "outputs": [],
   "source": [
    "title = \"{}: {} by @openaidalle.\".format(\n",
    "        metadata['content'][0],\n",
    "        ', '.join(metadata['content'][1:5])\n",
    "    ).replace(\".,\",\".\").replace(\".\",\",\")\n",
    "logger.info(f\"title: {title}\")"
   ]
  },
  {
   "cell_type": "code",
   "execution_count": null,
   "metadata": {},
   "outputs": [],
   "source": [
    "filename = os.path.join(object_path,\"DALL-E.jpg\")\n",
    "\n",
    "with PIL_Image.open(file.set_extension(filename,\"png\")) as img:\n",
    "    img.convert('RGB').save(filename, 'JPEG')\n",
    "\n",
    "Image(filename)"
   ]
  },
  {
   "cell_type": "code",
   "execution_count": null,
   "metadata": {},
   "outputs": [],
   "source": [
    "# https://adw0rd.github.io/instagrapi/usage-guide/media.html\n",
    "media = client.photo_upload(\n",
    "    filename,\n",
    "    title,\n",
    "    extra_data={\n",
    "        \"custom_accessibility_caption\": \"alt text example\",\n",
    "        \"like_and_view_counts_disabled\": 0,\n",
    "        \"disable_comments\": 0,\n",
    "    }\n",
    ")"
   ]
  },
  {
   "cell_type": "markdown",
   "metadata": {},
   "source": [
    "---"
   ]
  },
  {
   "cell_type": "code",
   "execution_count": null,
   "metadata": {},
   "outputs": [],
   "source": [
    "# END"
   ]
  }
 ],
 "metadata": {
  "kernelspec": {
   "display_name": "Python 3 (ipykernel)",
   "language": "python",
   "name": "python3"
  },
  "language_info": {
   "codemirror_mode": {
    "name": "ipython",
    "version": 3
   },
   "file_extension": ".py",
   "mimetype": "text/x-python",
   "name": "python",
   "nbconvert_exporter": "python",
   "pygments_lexer": "ipython3",
   "version": "3.11.3"
  },
  "toc": {
   "base_numbering": 1,
   "nav_menu": {},
   "number_sections": true,
   "sideBar": true,
   "skip_h1_title": false,
   "title_cell": "Table of Contents",
   "title_sidebar": "Contents",
   "toc_cell": false,
   "toc_position": {},
   "toc_section_display": true,
   "toc_window_display": false
  }
 },
 "nbformat": 4,
 "nbformat_minor": 2
}
